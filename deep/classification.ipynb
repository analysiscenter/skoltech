{
 "cells": [
  {
   "cell_type": "markdown",
   "metadata": {},
   "source": [
    "# Images Classification."
   ]
  },
  {
   "cell_type": "markdown",
   "metadata": {},
   "source": [
    "* [Data](#Data)\n",
    "* [Pipeline](#Pipeline)\n",
    "* [Setting Model](#Model-definition)\n",
    "* [Training](#Training)\n",
    "* [Validation](#Validation)\n",
    "* [AlexNet](#AlexNet)\n",
    "* [VGG](#VGG)\n",
    "* [ResNet](#ResNet)"
   ]
  },
  {
   "cell_type": "code",
   "execution_count": null,
   "metadata": {},
   "outputs": [],
   "source": [
    "import sys\n",
    "\n",
    "import PIL\n",
    "import numpy as np\n",
    "import matplotlib.pyplot as plt\n",
    "\n",
    "sys.path.append('..')"
   ]
  },
  {
   "cell_type": "markdown",
   "metadata": {},
   "source": [
    "## Data"
   ]
  },
  {
   "cell_type": "code",
   "execution_count": null,
   "metadata": {},
   "outputs": [],
   "source": [
    "from batchflow.opensets import Imagenette160# CIFAR10, CIFAR100, ImageWoof, PascalClassification, MNIST"
   ]
  },
  {
   "cell_type": "markdown",
   "metadata": {},
   "source": [
    "Load dataset."
   ]
  },
  {
   "cell_type": "code",
   "execution_count": null,
   "metadata": {},
   "outputs": [],
   "source": [
    "data = Imagenette160()"
   ]
  },
  {
   "cell_type": "markdown",
   "metadata": {},
   "source": [
    "Thats what happening under the hood the line above."
   ]
  },
  {
   "cell_type": "code",
   "execution_count": null,
   "metadata": {},
   "outputs": [],
   "source": [
    "# from batchflow import DatasetIndex, Dataset, ImagesBatch\n",
    "#\n",
    "# my_index = DatasetIndex(np.arange(len(imagenette_data)))\n",
    "#\n",
    "# data = Dataset(my_index, \n",
    "#                batch_class=ImagesBatch, \n",
    "#                preloaded=imagenette_data)"
   ]
  },
  {
   "cell_type": "markdown",
   "metadata": {},
   "source": [
    "Dataset divided into train and test parts."
   ]
  },
  {
   "cell_type": "code",
   "execution_count": null,
   "metadata": {},
   "outputs": [],
   "source": [
    "print('Images in train: {}'.format(len(data.train)))\n",
    "print('Images in test: {}'.format(len(data.test)))"
   ]
  },
  {
   "cell_type": "markdown",
   "metadata": {},
   "source": [
    "Plot some images from the dataset."
   ]
  },
  {
   "cell_type": "code",
   "execution_count": null,
   "metadata": {},
   "outputs": [],
   "source": [
    "from utils import plot_images"
   ]
  },
  {
   "cell_type": "code",
   "execution_count": null,
   "metadata": {},
   "outputs": [],
   "source": [
    "classes = ['tench', 'English springer', 'cassette player', 'chain saw', 'church',\n",
    "           'French horn', 'garbage truck', 'gas pump', 'golf ball', 'parachute']"
   ]
  },
  {
   "cell_type": "code",
   "execution_count": null,
   "metadata": {},
   "outputs": [],
   "source": [
    "ind = np.random.randint(len(data.train), size=10)\n",
    "\n",
    "images = data.train.images[ind]\n",
    "labels = data.train.labels[ind]\n",
    "images = np.array(images)\n",
    "plot_images(images, labels=labels, classes=classes, figsize=(15, 15))"
   ]
  },
  {
   "cell_type": "markdown",
   "metadata": {},
   "source": [
    "## Pipeline"
   ]
  },
  {
   "cell_type": "markdown",
   "metadata": {},
   "source": [
    "Declare pipeline with augmentations.   "
   ]
  },
  {
   "cell_type": "code",
   "execution_count": null,
   "metadata": {},
   "outputs": [],
   "source": [
    "pipeline = (data.train.pipeline()\n",
    "               .crop(shape=(160, 160), origin='random', src='images', dst='augm_images')\n",
    "               .flip(p=0.5, src='augm_images', dst='augm_images')\n",
    "           )"
   ]
  },
  {
   "cell_type": "markdown",
   "metadata": {},
   "source": [
    "Take a look the all images actions avaliable. [link](https://github.com/analysiscenter/batchflow/blob/master/examples/tutorials/06_image_augmentation.ipynb)"
   ]
  },
  {
   "cell_type": "code",
   "execution_count": null,
   "metadata": {},
   "outputs": [],
   "source": [
    "# class ImagesBatch:\n",
    "#     def crop(self):\n",
    "#         # code for cropping images\n",
    "#         return self\n",
    "    \n",
    "#     def flip(self):\n",
    "#         # code for flipping images\n",
    "#         return self"
   ]
  },
  {
   "cell_type": "markdown",
   "metadata": {},
   "source": [
    "Generate the batch and pass it through the pipeline."
   ]
  },
  {
   "cell_type": "code",
   "execution_count": null,
   "metadata": {},
   "outputs": [],
   "source": [
    "batch = pipeline.next_batch(batch_size=5, shuffle=True)"
   ]
  },
  {
   "cell_type": "code",
   "execution_count": null,
   "metadata": {},
   "outputs": [],
   "source": [
    "for i in range(len(batch)):\n",
    "    fig, ax = plt.subplots(1, 2 , figsize=(10, 3))\n",
    "    ax[0].imshow(batch.images[i])\n",
    "    ax[1].imshow(batch.augm_images[i])"
   ]
  },
  {
   "cell_type": "markdown",
   "metadata": {},
   "source": [
    "# Model"
   ]
  },
  {
   "cell_type": "code",
   "execution_count": null,
   "metadata": {},
   "outputs": [],
   "source": [
    "from batchflow.models.torch import TorchModel\n",
    "from batchflow import B, V, W"
   ]
  },
  {
   "cell_type": "markdown",
   "metadata": {},
   "source": [
    "Configure the model."
   ]
  },
  {
   "cell_type": "code",
   "execution_count": null,
   "metadata": {},
   "outputs": [],
   "source": [
    "model_config = {\n",
    "#          'initial_block': empty\n",
    "           'body': {'layout': 'ca ca', 'filters': [3, 3], 'kernel_size': 3},\n",
    "           'head': {'layout': 'f', 'units': 10},\n",
    "    \n",
    "           'output': {'predicted': ['proba']},    \n",
    "           'loss': 'ce',\n",
    "           'optimizer': dict(name='SGD', lr=0.01),\n",
    "           'device': 'gpu'\n",
    "}"
   ]
  },
  {
   "cell_type": "markdown",
   "metadata": {},
   "source": [
    "# Training"
   ]
  },
  {
   "cell_type": "code",
   "execution_count": null,
   "metadata": {},
   "outputs": [],
   "source": [
    "BATCH_SIZE = 64\n",
    "N_ITERS = 300"
   ]
  },
  {
   "cell_type": "markdown",
   "metadata": {},
   "source": [
    "Set the training pipeline."
   ]
  },
  {
   "cell_type": "code",
   "execution_count": null,
   "metadata": {},
   "outputs": [],
   "source": [
    "train_pipeline = (data.train.p \n",
    "                    .crop(shape=(160, 160), origin='random')\n",
    "                    .flip(p=0.5)\n",
    "                    .to_array(channels='first') \n",
    "                    .init_variable('loss', []) \n",
    "                    .init_model('dynamic', TorchModel, 'classification', model_config)\n",
    "                    .train_model('classification', B('images'), B('labels'), \n",
    "                                 fetches='loss', save_to=V('loss', mode='a'))\n",
    "                    .run_later(BATCH_SIZE, n_iters=N_ITERS, drop_last=True, shuffle=42, bar=True)\n",
    "                )"
   ]
  },
  {
   "cell_type": "code",
   "execution_count": null,
   "metadata": {},
   "outputs": [],
   "source": [
    "train_pipeline.run(bar_desc=W(V('loss')[-1].format('Loss is: {:7.7}')))"
   ]
  },
  {
   "cell_type": "markdown",
   "metadata": {},
   "source": [
    "Plot the training loss."
   ]
  },
  {
   "cell_type": "code",
   "execution_count": null,
   "metadata": {},
   "outputs": [],
   "source": [
    "loss = train_pipeline.v('loss')\n",
    "plt.figure(figsize=(6, 6))\n",
    "plt.plot(loss[5:])\n",
    "plt.grid()"
   ]
  },
  {
   "cell_type": "markdown",
   "metadata": {},
   "source": [
    "# Validation"
   ]
  },
  {
   "cell_type": "markdown",
   "metadata": {},
   "source": [
    "Pipeline for model evaluation."
   ]
  },
  {
   "cell_type": "code",
   "execution_count": null,
   "metadata": {},
   "outputs": [],
   "source": [
    "test_pipeline = (data.test.p\n",
    "                    .crop(shape=(160, 160), origin='random')\n",
    "                    .to_array(channels='first')\n",
    "                    .import_model('classification', train_pipeline)\n",
    "                    .predict_model('classification', B('images'), fetches='predicted_proba', \n",
    "                                   save_to=B('predictions'))\n",
    "                    .init_variable('metrics')\n",
    "                    .gather_metrics('class', targets=B.labels, predictions=B.predictions,\n",
    "                                    fmt='proba', axis=-1, save_to=V('metrics'))\n",
    "                    .run_later(250, shuffle=True, n_epochs=1, drop_last=True, bar=True)\n",
    "                )"
   ]
  },
  {
   "cell_type": "code",
   "execution_count": null,
   "metadata": {},
   "outputs": [],
   "source": [
    "test_pipeline.run()"
   ]
  },
  {
   "cell_type": "code",
   "execution_count": null,
   "metadata": {},
   "outputs": [],
   "source": [
    "metrics = test_pipeline.v('metrics')\n",
    "accuracy = metrics.evaluate('accuracy')\n",
    "print('Accuracy {}'.format(accuracy))"
   ]
  },
  {
   "cell_type": "markdown",
   "metadata": {},
   "source": [
    "Draw images from test data and model predictions"
   ]
  },
  {
   "cell_type": "code",
   "execution_count": null,
   "metadata": {},
   "outputs": [],
   "source": [
    "batch = test_pipeline.next_batch(10, shuffle=True)\n",
    "\n",
    "images = np.moveaxis(batch.images, 1, -1)\n",
    "plot_images(images, labels=batch.labels, proba=batch.predictions, figsize=(15, 15))"
   ]
  },
  {
   "cell_type": "code",
   "execution_count": null,
   "metadata": {},
   "outputs": [],
   "source": [
    "batch.predictions"
   ]
  },
  {
   "cell_type": "markdown",
   "metadata": {},
   "source": [
    "### Config for Pipeline"
   ]
  },
  {
   "cell_type": "code",
   "execution_count": null,
   "metadata": {},
   "outputs": [],
   "source": [
    "from batchflow import C"
   ]
  },
  {
   "cell_type": "markdown",
   "metadata": {},
   "source": [
    "Reusable pipelines. Can be used many times with different models.   \n",
    "Its components(models configuration, training scheme) defined through the config."
   ]
  },
  {
   "cell_type": "code",
   "execution_count": null,
   "metadata": {},
   "outputs": [],
   "source": [
    "train_pipeline = (data.train.p \n",
    "                    .crop(shape=(160, 160), origin='random')\n",
    "                    .flip(p=0.5)\n",
    "                    .to_array(channels='first') \n",
    "                    .init_variable('loss', []) \n",
    "                    .init_model('dynamic', C('model_class'), 'classification', C('model'))\n",
    "                    .train_model('classification', B('images'), B('labels'), \n",
    "                                 fetches='loss', save_to=V('loss', mode='a'))\n",
    "                    .run_later(C('batch_size'), n_iters=C('n_iters'), drop_last=True, shuffle=42, bar=True)\n",
    "                )\n",
    "\n",
    "test_pipeline = (data.test.p\n",
    "                    .crop(shape=(160, 160), origin='random')\n",
    "                    .to_array(channels='first')\n",
    "                    .init_variable('metrics')\n",
    "                    .import_model('classification', C('train_ppl'))\n",
    "                    .predict_model('classification', B('images'), fetches='predicted_proba', \n",
    "                                   save_to=B('predictions'))\n",
    "                    .gather_metrics('class', targets=B.labels, predictions=B.predictions,\n",
    "                                    fmt='proba', axis=-1, save_to=V('metrics'))\n",
    "                    .run_later(300, shuffle=True, n_epochs=1, drop_last=False, bar=True)\n",
    "                )"
   ]
  },
  {
   "cell_type": "markdown",
   "metadata": {},
   "source": [
    "# AlexNet "
   ]
  },
  {
   "cell_type": "markdown",
   "metadata": {},
   "source": [
    "![AlexNet](https://miro.medium.com/max/2812/1*bD_DMBtKwveuzIkQTwjKQQ.png)"
   ]
  },
  {
   "cell_type": "code",
   "execution_count": null,
   "metadata": {},
   "outputs": [],
   "source": [
    "alexnet_model = {\n",
    "    'initial_block': {'layout': 'cap', 'kernel_size': 11, 'filters': 4, 'strides': 4},\n",
    "    \n",
    "    'body': {'layout': 'cap ca ca cap', \n",
    "             'kernel_size': [5, 3, 3, 3], \n",
    "             'filters': [8, 16, 32, 64]},\n",
    "    \n",
    "    'head': {'layout': 'fa f', 'units': [100, 10]},\n",
    "       \n",
    "    'output': {'predicted': ['proba']},    \n",
    "    'loss': 'ce',\n",
    "    'optimizer': dict(name='SGD', lr=0.1), \n",
    "    'device': 'gpu'\n",
    "}"
   ]
  },
  {
   "cell_type": "code",
   "execution_count": null,
   "metadata": {},
   "outputs": [],
   "source": [
    "train_config = {\n",
    "        'model': alexnet_model,\n",
    "        'model_class': TorchModel,\n",
    "        'batch_size': 64,\n",
    "        'n_iters': 300\n",
    "            }"
   ]
  },
  {
   "cell_type": "code",
   "execution_count": null,
   "metadata": {},
   "outputs": [],
   "source": [
    "alexnet_train = train_pipeline << train_config"
   ]
  },
  {
   "cell_type": "code",
   "execution_count": null,
   "metadata": {},
   "outputs": [],
   "source": [
    "alexnet_train.run(bar_desc=W(V('loss')[-1].format('Loss is: {:7.7}')))"
   ]
  },
  {
   "cell_type": "code",
   "execution_count": null,
   "metadata": {},
   "outputs": [],
   "source": [
    "loss = alexnet_train.v('loss')\n",
    "plt.plot(loss[10:])"
   ]
  },
  {
   "cell_type": "code",
   "execution_count": null,
   "metadata": {},
   "outputs": [],
   "source": [
    "test_config = {\n",
    "    'train_ppl': alexnet_train,\n",
    "}\n",
    "\n",
    "alexnet_test = test_pipeline << test_config"
   ]
  },
  {
   "cell_type": "code",
   "execution_count": null,
   "metadata": {},
   "outputs": [],
   "source": [
    "alexnet_test.run()"
   ]
  },
  {
   "cell_type": "code",
   "execution_count": null,
   "metadata": {},
   "outputs": [],
   "source": [
    "metrics = alexnet_test.v('metrics')\n",
    "accuracy = metrics.evaluate('accuracy')\n",
    "print('Accuracy AlexNet - {}'.format(accuracy))"
   ]
  },
  {
   "cell_type": "code",
   "execution_count": null,
   "metadata": {},
   "outputs": [],
   "source": [
    "model = alexnet_train.m('classification').model\n",
    "num_params = sum(p.numel() for p in model.parameters() if p.requires_grad)\n",
    "print('Total number of params in AlexNet -', num_params)"
   ]
  },
  {
   "cell_type": "markdown",
   "metadata": {},
   "source": [
    "# VGG"
   ]
  },
  {
   "cell_type": "code",
   "execution_count": null,
   "metadata": {},
   "outputs": [],
   "source": [
    "model_common = {\n",
    "    'device': 'gpu',\n",
    "    'loss': 'ce',\n",
    "    'output': {'predicted': ['proba']},    \n",
    "}"
   ]
  },
  {
   "cell_type": "markdown",
   "metadata": {},
   "source": [
    "![VGG](https://neurohive.io/wp-content/uploads/2018/11/vgg16-neural-network-1-e1542973058418.jpg)"
   ]
  },
  {
   "cell_type": "code",
   "execution_count": null,
   "metadata": {},
   "outputs": [],
   "source": [
    "# vgg_model = {\n",
    "#     'body': dict(layout='cacap' * 2 + 'cacacap' * 3, kernel_size=3, \n",
    "#                  filters=[32, 32, 64, 64, 64, 64,  128, 128, 256, 256]),\n",
    "#     'head': dict(layout='d fa f', units=[100, 10], dropout_rate=0.99), \n",
    "    \n",
    "#     'optimizer': dict(name='Adam', lr=0.001),    \n",
    "#     **model_common\n",
    "# }"
   ]
  },
  {
   "cell_type": "code",
   "execution_count": null,
   "metadata": {},
   "outputs": [],
   "source": [
    "from batchflow.models.torch import Encoder\n",
    "from batchflow.models.torch import VGGBlock"
   ]
  },
  {
   "cell_type": "markdown",
   "metadata": {},
   "source": [
    "### Dropout layer"
   ]
  },
  {
   "cell_type": "markdown",
   "metadata": {},
   "source": [
    "![Dropout](http://s3-ap-south-1.amazonaws.com/av-blog-media/wp-content/uploads/2018/04/1IrdJ5PghD9YoOyVAQ73MJw.gif)"
   ]
  },
  {
   "cell_type": "code",
   "execution_count": null,
   "metadata": {},
   "outputs": [],
   "source": [
    "vgg_model = {\n",
    "    'body/encoder/num_stages': 5,\n",
    "    'body/encoder/blocks': dict(base=VGGBlock, layout='ca',\n",
    "                                filters=[32, 64, 64, 128, 256],\n",
    "                                depth3=[2, 2, 2, 2, 2]),\n",
    "    \n",
    "    'head': dict(layout='fad f', units=[100, 10], dropout_rate=0.99),\n",
    "    \n",
    "    'optimizer': dict(name='Adam', lr=0.001),    \n",
    "    **model_common\n",
    "}"
   ]
  },
  {
   "cell_type": "code",
   "execution_count": null,
   "metadata": {},
   "outputs": [],
   "source": [
    "train_config = {\n",
    "        'model': vgg_model,\n",
    "        'model_class': Encoder,\n",
    "        'batch_size': 64,\n",
    "        'n_iters': 500\n",
    "            }"
   ]
  },
  {
   "cell_type": "code",
   "execution_count": null,
   "metadata": {},
   "outputs": [],
   "source": [
    "vgg_train = train_pipeline << train_config"
   ]
  },
  {
   "cell_type": "code",
   "execution_count": null,
   "metadata": {},
   "outputs": [],
   "source": [
    "vgg_train.run(bar_desc=W(V('loss')[-1].format('Loss is: {:7.7}')))"
   ]
  },
  {
   "cell_type": "code",
   "execution_count": null,
   "metadata": {},
   "outputs": [],
   "source": [
    "loss = vgg_train.v('loss')\n",
    "plt.plot(loss[10:])"
   ]
  },
  {
   "cell_type": "code",
   "execution_count": null,
   "metadata": {},
   "outputs": [],
   "source": [
    "test_config = {\n",
    "    'train_ppl': vgg_train,\n",
    "}"
   ]
  },
  {
   "cell_type": "code",
   "execution_count": null,
   "metadata": {},
   "outputs": [],
   "source": [
    "vgg_test = test_pipeline << test_config"
   ]
  },
  {
   "cell_type": "code",
   "execution_count": null,
   "metadata": {},
   "outputs": [],
   "source": [
    "vgg_test.run()"
   ]
  },
  {
   "cell_type": "code",
   "execution_count": null,
   "metadata": {},
   "outputs": [],
   "source": [
    "metrics = vgg_test.v('metrics')\n",
    "accuracy = metrics.evaluate('accuracy')\n",
    "print('Accuracy VGG11 - {}'.format(accuracy))"
   ]
  },
  {
   "cell_type": "code",
   "execution_count": null,
   "metadata": {},
   "outputs": [],
   "source": [
    "model = vgg_train.m('classification').model\n",
    "num_params = sum(p.numel() for p in model.parameters() if p.requires_grad)\n",
    "print('Total number of params in VGG11 -', num_params)"
   ]
  },
  {
   "cell_type": "code",
   "execution_count": null,
   "metadata": {},
   "outputs": [],
   "source": [
    "batch = vgg_test.next_batch(5, shuffle=True)\n",
    "\n",
    "images = np.moveaxis(batch.images, 1, -1)\n",
    "plot_images(images, labels=batch.labels, proba=batch.predictions, classes=classes, figsize=(15, 15))"
   ]
  },
  {
   "cell_type": "markdown",
   "metadata": {},
   "source": [
    "# ResNet"
   ]
  },
  {
   "cell_type": "markdown",
   "metadata": {},
   "source": [
    "![ResNet](data:image/png;base64,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)"
   ]
  },
  {
   "cell_type": "code",
   "execution_count": null,
   "metadata": {},
   "outputs": [],
   "source": [
    "# resnet_config = {\n",
    "#            'initial_block':dict(layout='cnap', filters=8, kernel_size=7, strides=2,\n",
    "#                                 pool_size=3, pool_strides=2),\n",
    "\n",
    "#            'body': {'layout': 'R cnacna+ R cnacna+ p' * 4,\n",
    "#                     'filters': [64, 64, 64, 64, 128, 128, 128, 128, 256, 256, 256, 256, 512, 512, 512, 512]},\n",
    "\n",
    "#            'head': dict(layout='d fa f', units=[100, 10]),\n",
    "#         }"
   ]
  },
  {
   "cell_type": "code",
   "execution_count": null,
   "metadata": {},
   "outputs": [],
   "source": [
    "# resnet_config = {\n",
    "#            'initial_block':dict(layout='cnap', filters=8, kernel_size=7, strides=2,\n",
    "#                                 pool_size=3, pool_strides=2),  \n",
    "\n",
    "#            'body/encoder/num_stages': 4,\n",
    "#            'body/encoder/blocks': dict(base=ResBlock, layout='cnacna',\n",
    "#                                               filters=[8, 16, 32, 64],\n",
    "#                                               n_reps=[2, 2, 2, 2],\n",
    "#                                               downsample=[False, True, True, True]),\n",
    "#\n",
    "#            head': dict(layout='d fa f', units=[100, 10]),\n",
    "#         }"
   ]
  },
  {
   "cell_type": "markdown",
   "metadata": {},
   "source": [
    "Too much!"
   ]
  },
  {
   "cell_type": "markdown",
   "metadata": {},
   "source": [
    "User ready model from [model's zoo](https://analysiscenter.github.io/batchflow/api/batchflow.models.html)."
   ]
  },
  {
   "cell_type": "code",
   "execution_count": null,
   "metadata": {},
   "outputs": [],
   "source": [
    "from batchflow.models.torch import ResNet18"
   ]
  },
  {
   "cell_type": "code",
   "execution_count": null,
   "metadata": {},
   "outputs": [],
   "source": [
    "resnet_config = {\n",
    "           'head': dict(layout='fna f', units=[100, 10]),  # dict(layout='cV', filters=10)\n",
    "           'optimizer': dict(name='Adam', lr=0.001),\n",
    "            **model_common\n",
    "        }"
   ]
  },
  {
   "cell_type": "code",
   "execution_count": null,
   "metadata": {},
   "outputs": [],
   "source": [
    "train_config = {\n",
    "        'model': resnet_config,\n",
    "        'model_class': ResNet18,\n",
    "        'batch_size': 64,\n",
    "        'n_iters': 1000\n",
    "            }"
   ]
  },
  {
   "cell_type": "code",
   "execution_count": null,
   "metadata": {},
   "outputs": [],
   "source": [
    "resnet_train = train_pipeline << train_config"
   ]
  },
  {
   "cell_type": "code",
   "execution_count": null,
   "metadata": {},
   "outputs": [],
   "source": [
    "resnet_train.run(bar_desc=W(V('loss')[-1].format('Loss is: {:7.7}')))"
   ]
  },
  {
   "cell_type": "code",
   "execution_count": null,
   "metadata": {},
   "outputs": [],
   "source": [
    "loss = resnet_train.v('loss')\n",
    "plt.plot(loss[10:])"
   ]
  },
  {
   "cell_type": "code",
   "execution_count": null,
   "metadata": {},
   "outputs": [],
   "source": [
    "test_config = {\n",
    "    'train_ppl': resnet_train\n",
    "}\n",
    "\n",
    "resnet_test = test_pipeline << test_config"
   ]
  },
  {
   "cell_type": "code",
   "execution_count": null,
   "metadata": {},
   "outputs": [],
   "source": [
    "resnet_test.run()"
   ]
  },
  {
   "cell_type": "code",
   "execution_count": null,
   "metadata": {},
   "outputs": [],
   "source": [
    "metrics = resnet_test.v('metrics')\n",
    "accuracy = metrics.evaluate('accuracy')\n",
    "print('Accuracy ResNet - {}'.format(accuracy))"
   ]
  },
  {
   "cell_type": "code",
   "execution_count": null,
   "metadata": {},
   "outputs": [],
   "source": [
    "model = resnet_train.m('classification').model\n",
    "num_params = sum(p.numel() for p in model.parameters() if p.requires_grad)\n",
    "print('Total number of params in ResNet18 -', num_params)"
   ]
  },
  {
   "cell_type": "code",
   "execution_count": null,
   "metadata": {},
   "outputs": [],
   "source": [
    "batch = resnet_test.next_batch(10, shuffle=True)\n",
    "\n",
    "images = np.moveaxis(batch.images, 1, -1)\n",
    "plot_images(images, labels=batch.labels, proba=batch.predictions, classes=classes, figsize=(15, 15))"
   ]
  },
  {
   "cell_type": "code",
   "execution_count": null,
   "metadata": {},
   "outputs": [],
   "source": []
  }
 ],
 "metadata": {
  "kernelspec": {
   "display_name": "Python 3",
   "language": "python",
   "name": "python3"
  },
  "language_info": {
   "codemirror_mode": {
    "name": "ipython",
    "version": 3
   },
   "file_extension": ".py",
   "mimetype": "text/x-python",
   "name": "python",
   "nbconvert_exporter": "python",
   "pygments_lexer": "ipython3",
   "version": "3.5.2"
  }
 },
 "nbformat": 4,
 "nbformat_minor": 4
}
