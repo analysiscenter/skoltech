{
 "cells": [
  {
   "cell_type": "markdown",
   "metadata": {},
   "source": [
    "# Advanced Usage of Domain"
   ]
  },
  {
   "cell_type": "markdown",
   "metadata": {},
   "source": [
    "`Domain` and auxiliary classes (`KV`, `Option`, `ConfigAlias`) are used to define combinations of parameters to try in `Research`."
   ]
  },
  {
   "cell_type": "markdown",
   "metadata": {},
   "source": [
    "We start with some useful imports and constant definitions"
   ]
  },
  {
   "cell_type": "code",
   "execution_count": 1,
   "metadata": {},
   "outputs": [],
   "source": [
    "import sys\n",
    "import os\n",
    "import shutil\n",
    "\n",
    "import matplotlib\n",
    "%matplotlib inline"
   ]
  },
  {
   "cell_type": "code",
   "execution_count": 2,
   "metadata": {},
   "outputs": [],
   "source": [
    "sys.path.append('../../..')\n",
    "\n",
    "from batchflow import NumpySampler as NS\n",
    "from batchflow.research import KV, Option, Domain"
   ]
  },
  {
   "cell_type": "code",
   "execution_count": 3,
   "metadata": {},
   "outputs": [],
   "source": [
    "def drop_repetition(config_alias):\n",
    "    res = []\n",
    "    for item in config_alias:\n",
    "        item.pop_alias('repetition')\n",
    "        res.append(item)\n",
    "    return res"
   ]
  },
  {
   "cell_type": "markdown",
   "metadata": {},
   "source": [
    "## Basic usage"
   ]
  },
  {
   "cell_type": "markdown",
   "metadata": {},
   "source": [
    "`Option` is a class for parameter name and values that will be used in a `Research`. Values of the `Option` can be defined as array or `Sampler`. Can be easily transformed to `Domain` to construct iterator which will produce configs."
   ]
  },
  {
   "cell_type": "code",
   "execution_count": 4,
   "metadata": {},
   "outputs": [],
   "source": [
    "domain = Domain(Option('p', ['v1', 'v2']))"
   ]
  },
  {
   "cell_type": "markdown",
   "metadata": {},
   "source": [
    "Each instance of `Domain` class has attribute `iterator`: generator which produces configs from the domain."
   ]
  },
  {
   "cell_type": "code",
   "execution_count": 5,
   "metadata": {},
   "outputs": [
    {
     "data": {
      "text/plain": [
       "[ConfigAlias({'p': 'v1', 'repetition': '0'}),\n",
       " ConfigAlias({'p': 'v2', 'repetition': '0'})]"
      ]
     },
     "execution_count": 5,
     "metadata": {},
     "output_type": "execute_result"
    }
   ],
   "source": [
    "list(domain.iterator)"
   ]
  },
  {
   "cell_type": "markdown",
   "metadata": {},
   "source": [
    "Each item is `ConfigAlias`: wrapper for `Config` with methods `config` and `alias`, methods return wrapped `Config` and corresponding dict with `str` representations of values.\n",
    "To set or reset `iterator` use `set_iter` method. It also accepts some parameters that will be described below.\n",
    "If you get attribute `iterator` without `set_iter`, firstly it will be called with default parameters. "
   ]
  },
  {
   "cell_type": "code",
   "execution_count": 6,
   "metadata": {},
   "outputs": [
    {
     "data": {
      "text/plain": [
       "(Config({'p': 'v1', 'repetition': 0}), {'p': 'v1', 'repetition': '0'})"
      ]
     },
     "execution_count": 6,
     "metadata": {},
     "output_type": "execute_result"
    }
   ],
   "source": [
    "domain.set_iter()\n",
    "config = next(domain.iterator)\n",
    "\n",
    "config.config(), config.alias()"
   ]
  },
  {
   "cell_type": "markdown",
   "metadata": {},
   "source": [
    "Alias is used to create `str` representation of each value of the domain because they will be used as folder names and to have more readable representation of configs with non-string values.\n",
    "Alias is `__name__` attribute of the value or `str` representation. One can define custom alias by using `KV` class."
   ]
  },
  {
   "cell_type": "code",
   "execution_count": 7,
   "metadata": {},
   "outputs": [
    {
     "name": "stdout",
     "output_type": "stream",
     "text": [
      "alias: alias          value: v1\n",
      "alias: NumpySampler   value: <class 'batchflow.sampler.NumpySampler'>\n"
     ]
    }
   ],
   "source": [
    "domain = Domain(Option('p', [ KV('v1', 'alias'), NS]))\n",
    "\n",
    "config = next(domain.iterator)\n",
    "print('alias: {:14} value: {}'.format(config.alias()['p'], config.config()['p']))\n",
    "\n",
    "config = next(domain.iterator)\n",
    "print('alias: {:14} value: {}'.format(config.alias()['p'], config.config()['p']))"
   ]
  },
  {
   "cell_type": "markdown",
   "metadata": {},
   "source": [
    "You can define the number of times to produce each item of the domain as `n_reps` parameter of `set_iter`. Each produced `ConfigAlias` will have `'repetition'` key. "
   ]
  },
  {
   "cell_type": "code",
   "execution_count": 8,
   "metadata": {},
   "outputs": [
    {
     "data": {
      "text/plain": [
       "[ConfigAlias({'p': 'alias', 'repetition': '0'}),\n",
       " ConfigAlias({'p': 'NumpySampler', 'repetition': '0'}),\n",
       " ConfigAlias({'p': 'alias', 'repetition': '1'}),\n",
       " ConfigAlias({'p': 'NumpySampler', 'repetition': '1'})]"
      ]
     },
     "execution_count": 8,
     "metadata": {},
     "output_type": "execute_result"
    }
   ],
   "source": [
    "domain.set_iter(n_reps=2)\n",
    "\n",
    "list(domain.iterator)"
   ]
  },
  {
   "cell_type": "markdown",
   "metadata": {},
   "source": [
    "Also you can define `n_iters` parameter to define the number of configs that we will get from `Domain`. By default it is equel to the actual number of unique elements."
   ]
  },
  {
   "cell_type": "code",
   "execution_count": 9,
   "metadata": {},
   "outputs": [
    {
     "data": {
      "text/plain": [
       "[ConfigAlias({'p': 'alias', 'repetition': '0'}),\n",
       " ConfigAlias({'p': 'NumpySampler', 'repetition': '0'}),\n",
       " ConfigAlias({'p': 'alias', 'repetition': '0'}),\n",
       " ConfigAlias({'p': 'alias', 'repetition': '1'}),\n",
       " ConfigAlias({'p': 'NumpySampler', 'repetition': '1'}),\n",
       " ConfigAlias({'p': 'alias', 'repetition': '1'})]"
      ]
     },
     "execution_count": 9,
     "metadata": {},
     "output_type": "execute_result"
    }
   ],
   "source": [
    "domain.set_iter(n_iters=3, n_reps=2)\n",
    "\n",
    "list(domain.iterator)"
   ]
  },
  {
   "cell_type": "markdown",
   "metadata": {},
   "source": [
    "## Operations"
   ]
  },
  {
   "cell_type": "markdown",
   "metadata": {},
   "source": [
    "#### Multiplication\n",
    "The resulting `Domain` will produce configs from Cartesian product of values. It means that we will get all possible combinations of `Option` values. Here and below we will pop `'repetition'` key from configs to make cell output simpler except the cases while `n_reps != 1`."
   ]
  },
  {
   "cell_type": "code",
   "execution_count": 10,
   "metadata": {},
   "outputs": [
    {
     "data": {
      "text/plain": [
       "[ConfigAlias({'p1': 'v1', 'p2': 'v3'}),\n",
       " ConfigAlias({'p1': 'v1', 'p2': 'v4'}),\n",
       " ConfigAlias({'p1': 'v2', 'p2': 'v3'}),\n",
       " ConfigAlias({'p1': 'v2', 'p2': 'v4'})]"
      ]
     },
     "execution_count": 10,
     "metadata": {},
     "output_type": "execute_result"
    }
   ],
   "source": [
    "domain = Option('p1', ['v1', 'v2']) * Option('p2', ['v3', 'v4'])\n",
    "\n",
    "drop_repetition(domain.iterator)"
   ]
  },
  {
   "cell_type": "markdown",
   "metadata": {},
   "source": [
    "#### Sum\n",
    "Plus unites lists of values."
   ]
  },
  {
   "cell_type": "code",
   "execution_count": 11,
   "metadata": {},
   "outputs": [
    {
     "data": {
      "text/plain": [
       "[ConfigAlias({'p1': 'v1'}),\n",
       " ConfigAlias({'p1': 'v2'}),\n",
       " ConfigAlias({'p2': 'v3'}),\n",
       " ConfigAlias({'p2': 'v4'})]"
      ]
     },
     "execution_count": 11,
     "metadata": {},
     "output_type": "execute_result"
    }
   ],
   "source": [
    "domain = Option('p1', ['v1', 'v2']) + Option('p2', ['v3', 'v4'])\n",
    "\n",
    "drop_repetition(domain.iterator)"
   ]
  },
  {
   "cell_type": "markdown",
   "metadata": {},
   "source": [
    "#### `@` multiplication"
   ]
  },
  {
   "cell_type": "markdown",
   "metadata": {},
   "source": [
    "Result is a scalar product of options."
   ]
  },
  {
   "cell_type": "code",
   "execution_count": 12,
   "metadata": {},
   "outputs": [
    {
     "data": {
      "text/plain": [
       "[ConfigAlias({'p1': 'v1', 'p2': 'v3', 'p3': 'v5'}),\n",
       " ConfigAlias({'p1': 'v2', 'p2': 'v4', 'p3': 'v6'})]"
      ]
     },
     "execution_count": 12,
     "metadata": {},
     "output_type": "execute_result"
    }
   ],
   "source": [
    "op1 = Option('p1', ['v1', 'v2'])\n",
    "op2 = Option('p2', ['v3', 'v4'])\n",
    "op3 = Option('p3', ['v5', 'v6'])\n",
    "domain = op1 @ op2 @ op3\n",
    "\n",
    "drop_repetition(domain.iterator)"
   ]
  },
  {
   "cell_type": "markdown",
   "metadata": {},
   "source": [
    "You also can combine all operations because all of them can be applied to resulting domains."
   ]
  },
  {
   "cell_type": "code",
   "execution_count": 13,
   "metadata": {},
   "outputs": [
    {
     "data": {
      "text/plain": [
       "[ConfigAlias({'p1': 'v1', 'p2': 'v3', 'p4': '3'}),\n",
       " ConfigAlias({'p1': 'v1', 'p2': 'v3', 'p4': '4'}),\n",
       " ConfigAlias({'p1': 'v2', 'p2': 'v4', 'p4': '3'}),\n",
       " ConfigAlias({'p1': 'v2', 'p2': 'v4', 'p4': '4'}),\n",
       " ConfigAlias({'p3': '0', 'p4': '3'}),\n",
       " ConfigAlias({'p3': '0', 'p4': '4'}),\n",
       " ConfigAlias({'p3': '1', 'p4': '3'}),\n",
       " ConfigAlias({'p3': '1', 'p4': '4'})]"
      ]
     },
     "execution_count": 13,
     "metadata": {},
     "output_type": "execute_result"
    }
   ],
   "source": [
    "op1 = Option('p1', ['v1', 'v2'])\n",
    "op2 = Option('p2', ['v3', 'v4'])\n",
    "op3 = Option('p3', list(range(2)))\n",
    "op4 = Option('p4', list(range(3, 5)))\n",
    "\n",
    "domain = (op1 @ op2 + op3) * op4\n",
    "\n",
    "drop_repetition(domain.iterator)"
   ]
  },
  {
   "cell_type": "markdown",
   "metadata": {},
   "source": [
    "`size` attribute will return the size of resulting domain "
   ]
  },
  {
   "cell_type": "code",
   "execution_count": 14,
   "metadata": {},
   "outputs": [
    {
     "name": "stdout",
     "output_type": "stream",
     "text": [
      "8\n"
     ]
    }
   ],
   "source": [
    "print(domain.size)"
   ]
  },
  {
   "cell_type": "markdown",
   "metadata": {},
   "source": [
    "Note that you will get the total number of produced confgs. For example, if you have one `Option` with two values and `n_iters=5` and `n_reps=2` in `set_iter` then the size will be 10."
   ]
  },
  {
   "cell_type": "code",
   "execution_count": 15,
   "metadata": {},
   "outputs": [
    {
     "data": {
      "text/plain": [
       "10"
      ]
     },
     "execution_count": 15,
     "metadata": {},
     "output_type": "execute_result"
    }
   ],
   "source": [
    "domain = Domain(Option('p1', list(range(3))))\n",
    "domain.set_iter(n_iters=5, n_reps=2)\n",
    "domain.size"
   ]
  },
  {
   "cell_type": "markdown",
   "metadata": {},
   "source": [
    "## Options with Samplers"
   ]
  },
  {
   "cell_type": "markdown",
   "metadata": {},
   "source": [
    "Instead of array-like options you can use `Sampler` instances as `Option` value. Iterator will produce independent samples from domain."
   ]
  },
  {
   "cell_type": "code",
   "execution_count": 16,
   "metadata": {},
   "outputs": [
    {
     "data": {
      "text/plain": [
       "[ConfigAlias({'p1': '-0.18666036858901167'}),\n",
       " ConfigAlias({'p1': '-0.7764567425273557'}),\n",
       " ConfigAlias({'p1': '0.4112263968670785'})]"
      ]
     },
     "execution_count": 16,
     "metadata": {},
     "output_type": "execute_result"
    }
   ],
   "source": [
    "domain = Domain(Option('p1', NS('n')))\n",
    "domain.set_iter(n_iters=3)\n",
    "\n",
    "drop_repetition(domain.iterator)"
   ]
  },
  {
   "cell_type": "markdown",
   "metadata": {},
   "source": [
    "If `n_reps > 1` then samples will be repeated."
   ]
  },
  {
   "cell_type": "code",
   "execution_count": 17,
   "metadata": {},
   "outputs": [
    {
     "data": {
      "text/plain": [
       "[ConfigAlias({'p1': '0.6559810584264794', 'repetition': '0'}),\n",
       " ConfigAlias({'p1': '-0.9878018244023918', 'repetition': '0'}),\n",
       " ConfigAlias({'p1': '0.6922709777654654', 'repetition': '0'}),\n",
       " ConfigAlias({'p1': '0.6559810584264794', 'repetition': '1'}),\n",
       " ConfigAlias({'p1': '-0.9878018244023918', 'repetition': '1'}),\n",
       " ConfigAlias({'p1': '0.6922709777654654', 'repetition': '1'})]"
      ]
     },
     "execution_count": 17,
     "metadata": {},
     "output_type": "execute_result"
    }
   ],
   "source": [
    "domain.set_iter(n_iters=3, n_reps=2)\n",
    "\n",
    "list(domain.iterator)"
   ]
  },
  {
   "cell_type": "markdown",
   "metadata": {},
   "source": [
    "If `set_iter` will be called with `n_iters=None` then resulting iterator will be infinite."
   ]
  },
  {
   "cell_type": "code",
   "execution_count": 18,
   "metadata": {},
   "outputs": [
    {
     "name": "stdout",
     "output_type": "stream",
     "text": [
      "size:  None\n",
      "ConfigAlias({'p1': '1.1794451621376802', 'repetition': '0'})\n",
      "ConfigAlias({'p1': '-0.8377350091935624', 'repetition': '0'})\n",
      "ConfigAlias({'p1': '1.2203144314279863', 'repetition': '0'})\n",
      "ConfigAlias({'p1': '0.7257703418143013', 'repetition': '0'})\n",
      "ConfigAlias({'p1': '-0.5393569429280896', 'repetition': '0'})\n"
     ]
    }
   ],
   "source": [
    "domain.set_iter(n_iters=None)\n",
    "\n",
    "print('size: ', domain.size)\n",
    "\n",
    "for _ in range(5):\n",
    "    print(next(domain.iterator))"
   ]
  },
  {
   "cell_type": "markdown",
   "metadata": {},
   "source": [
    "`repeat_each` parameter defines how often elements from infinite generator will be repeated (by default, `repeat_each=100`)."
   ]
  },
  {
   "cell_type": "code",
   "execution_count": 19,
   "metadata": {},
   "outputs": [
    {
     "name": "stdout",
     "output_type": "stream",
     "text": [
      "Domain size: None \n",
      "\n",
      "ConfigAlias({'p1': '-0.8045105032749361', 'repetition': '0'})\n",
      "ConfigAlias({'p1': '0.49516405159733623', 'repetition': '0'})\n",
      "ConfigAlias({'p1': '-0.8045105032749361', 'repetition': '1'})\n",
      "ConfigAlias({'p1': '0.49516405159733623', 'repetition': '1'})\n",
      "ConfigAlias({'p1': '0.20568893464639518', 'repetition': '0'})\n",
      "ConfigAlias({'p1': '0.8531878953938405', 'repetition': '0'})\n",
      "ConfigAlias({'p1': '0.20568893464639518', 'repetition': '1'})\n",
      "ConfigAlias({'p1': '0.8531878953938405', 'repetition': '1'})\n"
     ]
    }
   ],
   "source": [
    "domain.set_iter(n_iters=None, n_reps=2, repeat_each=2)\n",
    "\n",
    "print('Domain size: {} \\n'.format(domain.size))\n",
    "\n",
    "for _ in range(8):\n",
    "    print(next(domain.iterator))"
   ]
  },
  {
   "cell_type": "markdown",
   "metadata": {},
   "source": [
    "If one multiply array-like options and sampler options, resulting iterator will produce combinations of array-like options with independent sampler from sampler options."
   ]
  },
  {
   "cell_type": "code",
   "execution_count": 20,
   "metadata": {},
   "outputs": [
    {
     "data": {
      "text/plain": [
       "[ConfigAlias({'p1': '0.027281320022883283', 'p2': '0.676603672080008', 'p3': '1'}),\n",
       " ConfigAlias({'p1': '0.9204453494550416', 'p2': '0.7773722425900274', 'p3': '2'}),\n",
       " ConfigAlias({'p1': '-1.5074022911301577', 'p2': '0.470577354404912', 'p3': '3'})]"
      ]
     },
     "execution_count": 20,
     "metadata": {},
     "output_type": "execute_result"
    }
   ],
   "source": [
    "domain = Option('p1', NS('n')) * Option('p2', NS('u')) * Option('p3', [1, 2, 3])\n",
    "\n",
    "drop_repetition(domain.iterator)"
   ]
  },
  {
   "cell_type": "markdown",
   "metadata": {},
   "source": [
    "## Domains with Weights"
   ]
  },
  {
   "cell_type": "markdown",
   "metadata": {},
   "source": [
    "By default configs are consequently produced from option in a sum from the left to the right."
   ]
  },
  {
   "cell_type": "code",
   "execution_count": 21,
   "metadata": {},
   "outputs": [
    {
     "data": {
      "text/plain": [
       "[ConfigAlias({'p1': 'v1'}),\n",
       " ConfigAlias({'p1': 'v2'}),\n",
       " ConfigAlias({'p2': 'v3'}),\n",
       " ConfigAlias({'p2': 'v4'}),\n",
       " ConfigAlias({'p3': 'v5'}),\n",
       " ConfigAlias({'p3': 'v6'})]"
      ]
     },
     "execution_count": 21,
     "metadata": {},
     "output_type": "execute_result"
    }
   ],
   "source": [
    "op1 = Option('p1', ['v1', 'v2'])\n",
    "op2 = Option('p2', ['v3', 'v4'])\n",
    "op3 = Option('p3', ['v5', 'v6'])\n",
    "domain = op1 + op2 + op3\n",
    "\n",
    "drop_repetition(domain.iterator)"
   ]
  },
  {
   "cell_type": "markdown",
   "metadata": {},
   "source": [
    "To sample options from sum independently with some probabilities you can multiply corresponding options by float."
   ]
  },
  {
   "cell_type": "code",
   "execution_count": 22,
   "metadata": {},
   "outputs": [
    {
     "data": {
      "text/plain": [
       "[ConfigAlias({'p3': 'v5'}),\n",
       " ConfigAlias({'p2': 'v3'}),\n",
       " ConfigAlias({'p3': 'v6'}),\n",
       " ConfigAlias({'p2': 'v4'}),\n",
       " ConfigAlias({'p1': 'v1'}),\n",
       " ConfigAlias({'p1': 'v2'})]"
      ]
     },
     "execution_count": 22,
     "metadata": {},
     "output_type": "execute_result"
    }
   ],
   "source": [
    "domain = 0.3 * op1 + 0.2 * op2 + 0.5 * op3\n",
    "\n",
    "drop_repetition(domain.iterator)"
   ]
  },
  {
   "cell_type": "markdown",
   "metadata": {},
   "source": [
    "If you sum options with and without weights,\n",
    "* they are grouped into consequent groups where all options has or not weights,\n",
    "* consequently for each group configs are generated consequently (for groups with weights) or sampled as described above."
   ]
  },
  {
   "cell_type": "code",
   "execution_count": 23,
   "metadata": {},
   "outputs": [
    {
     "data": {
      "text/plain": [
       "[ConfigAlias({'p1': 'v1'}),\n",
       " ConfigAlias({'p1': 'v2'}),\n",
       " ConfigAlias({'p2': 'v3'}),\n",
       " ConfigAlias({'p3': 'v5'}),\n",
       " ConfigAlias({'p3': 'v6'}),\n",
       " ConfigAlias({'p2': 'v4'})]"
      ]
     },
     "execution_count": 23,
     "metadata": {},
     "output_type": "execute_result"
    }
   ],
   "source": [
    "domain = op1 + 1.0 * op2 + 1.0 * op3\n",
    "\n",
    "drop_repetition(domain.iterator)"
   ]
  },
  {
   "cell_type": "markdown",
   "metadata": {},
   "source": [
    "Thus, we firstly get all configs from `op1`, then configs uniformly sampled from `op2` and `op3`. Obviously, if we define some weight too large, firstly we get all samples from corresponding option."
   ]
  },
  {
   "cell_type": "code",
   "execution_count": 24,
   "metadata": {},
   "outputs": [
    {
     "data": {
      "text/plain": [
       "[ConfigAlias({'p1': 'v1'}),\n",
       " ConfigAlias({'p1': 'v2'}),\n",
       " ConfigAlias({'p3': 'v5'}),\n",
       " ConfigAlias({'p3': 'v6'}),\n",
       " ConfigAlias({'p2': 'v3'}),\n",
       " ConfigAlias({'p2': 'v4'})]"
      ]
     },
     "execution_count": 24,
     "metadata": {},
     "output_type": "execute_result"
    }
   ],
   "source": [
    "domain = op1 + 1.0 * op2 + 100.0 * op3\n",
    "\n",
    "drop_repetition(domain.iterator)"
   ]
  },
  {
   "cell_type": "markdown",
   "metadata": {},
   "source": [
    "Consider more dificult situation. We will get\n",
    "* all configs from `options[0]`\n",
    "* configs will be sampled from `1.2 * options[1] + 2.3 * options[2]`\n",
    "* all configs from `options[3]`\n",
    "* configs will be sampled from `1.7 * options[4] + 3.4 * options[5]`"
   ]
  },
  {
   "cell_type": "code",
   "execution_count": 25,
   "metadata": {},
   "outputs": [
    {
     "data": {
      "text/plain": [
       "[ConfigAlias({'p0': 'v0'}),\n",
       " ConfigAlias({'p2': 'v2'}),\n",
       " ConfigAlias({'p1': 'v1'}),\n",
       " ConfigAlias({'p3': 'v3'}),\n",
       " ConfigAlias({'p5': 'v5'}),\n",
       " ConfigAlias({'p4': 'v4'}),\n",
       " ConfigAlias({'p0': 'v0'}),\n",
       " ConfigAlias({'p2': 'v2'}),\n",
       " ConfigAlias({'p1': 'v1'}),\n",
       " ConfigAlias({'p3': 'v3'}),\n",
       " ConfigAlias({'p4': 'v4'}),\n",
       " ConfigAlias({'p5': 'v5'})]"
      ]
     },
     "execution_count": 25,
     "metadata": {},
     "output_type": "execute_result"
    }
   ],
   "source": [
    "options = [Option('p'+str(i), ['v'+str(i)]) for i in range(6)]\n",
    "domain = options[0] + 1.2 * options[1] + 2.3 * options[2] + options[3] + 1.7 * options[4] + 3.4 * options[5]\n",
    "\n",
    "domain.set_iter(12)\n",
    "\n",
    "drop_repetition(domain.iterator)"
   ]
  }
 ],
 "metadata": {
  "kernelspec": {
   "display_name": "Python 3",
   "language": "python",
   "name": "python3"
  },
  "language_info": {
   "codemirror_mode": {
    "name": "ipython",
    "version": 3
   },
   "file_extension": ".py",
   "mimetype": "text/x-python",
   "name": "python",
   "nbconvert_exporter": "python",
   "pygments_lexer": "ipython3",
   "version": "3.6.9"
  }
 },
 "nbformat": 4,
 "nbformat_minor": 4
}
