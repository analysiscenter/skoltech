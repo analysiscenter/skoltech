{
 "cells": [
  {
   "cell_type": "markdown",
   "metadata": {},
   "source": [
    "# Update domain in Research"
   ]
  },
  {
   "cell_type": "markdown",
   "metadata": {},
   "source": [
    "There is situations when paramaters domain mast be transformed in some moment. To realize that logic `Research` has `update_domain` method."
   ]
  },
  {
   "cell_type": "markdown",
   "metadata": {},
   "source": [
    "We start with some useful imports and constant definitions"
   ]
  },
  {
   "cell_type": "code",
   "execution_count": 1,
   "metadata": {},
   "outputs": [],
   "source": [
    "import sys\n",
    "import os\n",
    "import shutil\n",
    "\n",
    "import numpy as np\n",
    "import matplotlib\n",
    "%matplotlib inline\n",
    "\n",
    "os.environ[\"CUDA_VISIBLE_DEVICES\"] = \"7\""
   ]
  },
  {
   "cell_type": "code",
   "execution_count": 2,
   "metadata": {},
   "outputs": [],
   "source": [
    "sys.path.append('../../..')\n",
    "\n",
    "from batchflow import Pipeline, B, C, V, D, L\n",
    "from batchflow.opensets import CIFAR10\n",
    "from batchflow.models.torch import VGG7, VGG16, ResNet18\n",
    "from batchflow.research import Research, Option, Results, PrintLogger, RP, RR"
   ]
  },
  {
   "cell_type": "code",
   "execution_count": 3,
   "metadata": {},
   "outputs": [],
   "source": [
    "BATCH_SIZE=64\n",
    "\n",
    "ds = CIFAR10()"
   ]
  },
  {
   "cell_type": "code",
   "execution_count": 4,
   "metadata": {},
   "outputs": [],
   "source": [
    "def clear_previous_results(res_name):\n",
    "    if os.path.exists(res_name):\n",
    "        shutil.rmtree(res_name)"
   ]
  },
  {
   "cell_type": "markdown",
   "metadata": {},
   "source": [
    "Let us solve the following problem: for one epoch we will train three models: VGG7, VGG16 and ResNet18, then we will choose the best model with the highest test accuracy and finally will train it for 10 epochs. Define pipelines where we will be change `'model'` and `'n_epochs'`."
   ]
  },
  {
   "cell_type": "code",
   "execution_count": 5,
   "metadata": {},
   "outputs": [],
   "source": [
    "model_config={\n",
    "    'inputs/images/shape': B('image_shape'),\n",
    "    'inputs/labels/classes': D('num_classes'),\n",
    "    'inputs/labels/name': 'targets',\n",
    "    'initial_block/inputs': 'images'\n",
    "}"
   ]
  },
  {
   "cell_type": "code",
   "execution_count": 6,
   "metadata": {},
   "outputs": [],
   "source": [
    "train_pipeline = (Pipeline()\n",
    "            .set_dataset(C('dataset'))\n",
    "            .init_variable('loss')\n",
    "            .init_model('dynamic', C('model'), 'conv', config=model_config)\n",
    "            .to_array(dtype='float32')\n",
    "            .train_model('conv', B('images'), B('labels'),\n",
    "                         fetches='loss', save_to=V('loss', mode='w'))\n",
    "            .run_later(batch_size=BATCH_SIZE, n_epochs=C('n_epochs'))\n",
    ")\n",
    "\n",
    "test_pipeline = (Pipeline()\n",
    "                 .init_variable('predictions')\n",
    "                 .init_variable('metrics')\n",
    "                 .import_model('conv', C('import_from'))\n",
    "                 .to_array(dtype='float32')\n",
    "                 .predict_model('conv', B('images'),\n",
    "                                fetches='predictions', save_to=V('predictions'))\n",
    "                 .gather_metrics('class', targets=B('labels'), predictions=V('predictions'), \n",
    "                                fmt='logits', axis=-1, save_to=V('metrics'))\n",
    "                 .run_later(batch_size=BATCH_SIZE, n_epochs=1)) << CIFAR10().test"
   ]
  },
  {
   "cell_type": "markdown",
   "metadata": {},
   "source": [
    "Firstly, define initial domain."
   ]
  },
  {
   "cell_type": "code",
   "execution_count": 7,
   "metadata": {},
   "outputs": [],
   "source": [
    "domain = Option('model', [VGG7, VGG16, ResNet18]) * Option('n_epochs', [1])"
   ]
  },
  {
   "cell_type": "markdown",
   "metadata": {},
   "source": [
    "To update domain we can define some function which returns new `domain` or `None` if domain will not be updated. In our case funtion `update_domain` accepts research results as `pandas.DataFrame`, takes model with the highest accuracy and create new domain with that model and `n_epochs=2`."
   ]
  },
  {
   "cell_type": "code",
   "execution_count": 8,
   "metadata": {},
   "outputs": [],
   "source": [
    "def update_domain(results):\n",
    "    best_model = results.iloc[results['accuracy'].idxmax()].model\n",
    "    domain = Option('model', [best_model]) * Option('n_epochs', [2])\n",
    "    return domain"
   ]
  },
  {
   "cell_type": "markdown",
   "metadata": {},
   "source": [
    "We add update function into research as a parameter of `update_domain` function. `each` parameter defines how often function will be applied. If `each='last'`, update function will be applied when current domain will be exhausted. `n_updates` parameter defines the number of domain updates. All other parameters are used as `kwargs` for `update_domain` function."
   ]
  },
  {
   "cell_type": "markdown",
   "metadata": {},
   "source": [
    "One can also define some callable to update each config. For example, we can define dataset of size 1000 for the first stage of experiment and the whole train for the second."
   ]
  },
  {
   "cell_type": "code",
   "execution_count": 9,
   "metadata": {},
   "outputs": [],
   "source": [
    "def create_dataset(config):\n",
    "    update = config['update']\n",
    "    if update == 0:\n",
    "        dataset = ds.train.create_subset(np.arange(1000))\n",
    "    else:\n",
    "        dataset = ds.train\n",
    "    return {'dataset': dataset}"
   ]
  },
  {
   "cell_type": "code",
   "execution_count": 10,
   "metadata": {},
   "outputs": [
    {
     "name": "stdout",
     "output_type": "stream",
     "text": [
      "Research dynamic_domain_research is starting...\n"
     ]
    },
    {
     "name": "stderr",
     "output_type": "stream",
     "text": [
      "Domain updated: 1: : 4it [03:53, 58.32s/it]                       \n"
     ]
    },
    {
     "data": {
      "text/plain": [
       "<batchflow.research.research.Research at 0x7fa109ced2e8>"
      ]
     },
     "execution_count": 10,
     "metadata": {},
     "output_type": "execute_result"
    }
   ],
   "source": [
    "research = (Research()\n",
    "            .add_pipeline(train_pipeline, variables='loss', name='train_ppl')\n",
    "            .add_pipeline(test_pipeline, run=False, name='test_ppl',\n",
    "                          import_from=RP('train_ppl'), execute='last')\n",
    "            .get_metrics(pipeline='test_ppl', metrics_var='metrics', metrics_name='accuracy',\n",
    "                         returns='accuracy', execute='last')\n",
    "            .init_domain(domain)\n",
    "            .update_config(create_dataset)\n",
    "            .update_domain(update_domain, each='last', n_updates=1,\n",
    "                           results=RR(names='test_ppl_metrics', use_alias=False).df))\n",
    "\n",
    "res_name = 'dynamic_domain_research'\n",
    "clear_previous_results(res_name)\n",
    "\n",
    "research.run(n_iters=None, name=res_name, bar=True)"
   ]
  },
  {
   "cell_type": "markdown",
   "metadata": {},
   "source": [
    "Resulting `pandas.DataFrame` will have `'update'` column with the number of updates before we get current config."
   ]
  },
  {
   "cell_type": "code",
   "execution_count": 12,
   "metadata": {},
   "outputs": [
    {
     "name": "stdout",
     "output_type": "stream",
     "text": [
      "Best model:     VGG7\n",
      "Final accuracy: 0.578125\n"
     ]
    }
   ],
   "source": [
    "acc = research.load_results(names='test_ppl_metrics', update=1).df\n",
    "print('Best model:    ', acc.model.values[0])\n",
    "print('Final accuracy:', acc.accuracy.values[0])"
   ]
  },
  {
   "cell_type": "markdown",
   "metadata": {},
   "source": [
    "Updates will be stopped after `n_updates` or when update function will return `None`."
   ]
  }
 ],
 "metadata": {
  "kernelspec": {
   "display_name": "Python 3",
   "language": "python",
   "name": "python3"
  },
  "language_info": {
   "codemirror_mode": {
    "name": "ipython",
    "version": 3
   },
   "file_extension": ".py",
   "mimetype": "text/x-python",
   "name": "python",
   "nbconvert_exporter": "python",
   "pygments_lexer": "ipython3",
   "version": "3.6.9"
  }
 },
 "nbformat": 4,
 "nbformat_minor": 4
}
