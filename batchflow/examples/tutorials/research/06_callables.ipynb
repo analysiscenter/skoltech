{
 "cells": [
  {
   "cell_type": "markdown",
   "metadata": {},
   "source": [
    "# Callables in Research"
   ]
  },
  {
   "cell_type": "markdown",
   "metadata": {},
   "source": [
    "The main purpose of Research is to run pipleines with different configs in parallel but you also can add callables and realize very flexible plans of experiments even without pipelines."
   ]
  },
  {
   "cell_type": "code",
   "execution_count": 1,
   "metadata": {},
   "outputs": [],
   "source": [
    "import sys\n",
    "import os\n",
    "import shutil\n",
    "\n",
    "import warnings\n",
    "warnings.filterwarnings('ignore')\n",
    "\n",
    "from tensorflow import logging\n",
    "logging.set_verbosity(logging.ERROR)\n",
    "os.environ['TF_CPP_MIN_LOG_LEVEL'] = '3'\n",
    "\n",
    "import matplotlib\n",
    "%matplotlib inline\n",
    "\n",
    "import numpy as np"
   ]
  },
  {
   "cell_type": "code",
   "execution_count": 2,
   "metadata": {},
   "outputs": [],
   "source": [
    "sys.path.append('../../..')\n",
    "\n",
    "from batchflow import Pipeline, B, C, V, D, L\n",
    "from batchflow.opensets import MNIST\n",
    "from batchflow.models.tf import VGG7, VGG16\n",
    "from batchflow.research import Research, Option, Results, RP, RR, RD, REP, RID, RI"
   ]
  },
  {
   "cell_type": "code",
   "execution_count": 3,
   "metadata": {},
   "outputs": [],
   "source": [
    "def clear_previous_results(res_name):\n",
    "    if os.path.exists(res_name):\n",
    "        shutil.rmtree(res_name)"
   ]
  },
  {
   "cell_type": "markdown",
   "metadata": {},
   "source": [
    "## Simple example"
   ]
  },
  {
   "cell_type": "markdown",
   "metadata": {},
   "source": [
    "To add your callable into Research use `add_callable` method:"
   ]
  },
  {
   "cell_type": "code",
   "execution_count": 4,
   "metadata": {},
   "outputs": [
    {
     "name": "stdout",
     "output_type": "stream",
     "text": [
      "Research sample_callable_research is starting...\n"
     ]
    },
    {
     "data": {
      "text/html": [
       "<div>\n",
       "<style scoped>\n",
       "    .dataframe tbody tr th:only-of-type {\n",
       "        vertical-align: middle;\n",
       "    }\n",
       "\n",
       "    .dataframe tbody tr th {\n",
       "        vertical-align: top;\n",
       "    }\n",
       "\n",
       "    .dataframe thead th {\n",
       "        text-align: right;\n",
       "    }\n",
       "</style>\n",
       "<table border=\"1\" class=\"dataframe\">\n",
       "  <thead>\n",
       "    <tr style=\"text-align: right;\">\n",
       "      <th></th>\n",
       "      <th>name</th>\n",
       "      <th>random</th>\n",
       "      <th>iteration</th>\n",
       "      <th>sample_index</th>\n",
       "      <th>repetition</th>\n",
       "      <th>update</th>\n",
       "    </tr>\n",
       "  </thead>\n",
       "  <tbody>\n",
       "    <tr>\n",
       "      <th>0</th>\n",
       "      <td>randn_std</td>\n",
       "      <td>0.592352</td>\n",
       "      <td>0</td>\n",
       "      <td>4056567556</td>\n",
       "      <td>0</td>\n",
       "      <td>0</td>\n",
       "    </tr>\n",
       "    <tr>\n",
       "      <th>1</th>\n",
       "      <td>randn_std</td>\n",
       "      <td>-0.994278</td>\n",
       "      <td>1</td>\n",
       "      <td>4056567556</td>\n",
       "      <td>0</td>\n",
       "      <td>0</td>\n",
       "    </tr>\n",
       "    <tr>\n",
       "      <th>2</th>\n",
       "      <td>randn_std</td>\n",
       "      <td>0.584242</td>\n",
       "      <td>2</td>\n",
       "      <td>4056567556</td>\n",
       "      <td>0</td>\n",
       "      <td>0</td>\n",
       "    </tr>\n",
       "    <tr>\n",
       "      <th>3</th>\n",
       "      <td>randn_std</td>\n",
       "      <td>-0.752847</td>\n",
       "      <td>3</td>\n",
       "      <td>4056567556</td>\n",
       "      <td>0</td>\n",
       "      <td>0</td>\n",
       "    </tr>\n",
       "    <tr>\n",
       "      <th>4</th>\n",
       "      <td>randn_std</td>\n",
       "      <td>-0.666386</td>\n",
       "      <td>4</td>\n",
       "      <td>4056567556</td>\n",
       "      <td>0</td>\n",
       "      <td>0</td>\n",
       "    </tr>\n",
       "  </tbody>\n",
       "</table>\n",
       "</div>"
      ],
      "text/plain": [
       "        name    random  iteration sample_index  repetition  update\n",
       "0  randn_std  0.592352          0   4056567556           0       0\n",
       "1  randn_std -0.994278          1   4056567556           0       0\n",
       "2  randn_std  0.584242          2   4056567556           0       0\n",
       "3  randn_std -0.752847          3   4056567556           0       0\n",
       "4  randn_std -0.666386          4   4056567556           0       0"
      ]
     },
     "execution_count": 4,
     "metadata": {},
     "output_type": "execute_result"
    }
   ],
   "source": [
    "res_name = 'sample_callable_research'\n",
    "clear_previous_results(res_name)\n",
    "\n",
    "def randn_std():\n",
    "    return np.random.randn()\n",
    "\n",
    "research = Research().add_callable(randn_std, returns='random', name='randn_std')\n",
    "\n",
    "research.run(5, name=res_name)\n",
    "\n",
    "research.load_results().df"
   ]
  },
  {
   "cell_type": "markdown",
   "metadata": {},
   "source": [
    "You also can use `args` and `kwargs` for your callables, just add them into `add_callable`."
   ]
  },
  {
   "cell_type": "code",
   "execution_count": 5,
   "metadata": {},
   "outputs": [
    {
     "name": "stdout",
     "output_type": "stream",
     "text": [
      "Research sample_callable_research is starting...\n"
     ]
    },
    {
     "data": {
      "text/html": [
       "<div>\n",
       "<style scoped>\n",
       "    .dataframe tbody tr th:only-of-type {\n",
       "        vertical-align: middle;\n",
       "    }\n",
       "\n",
       "    .dataframe tbody tr th {\n",
       "        vertical-align: top;\n",
       "    }\n",
       "\n",
       "    .dataframe thead th {\n",
       "        text-align: right;\n",
       "    }\n",
       "</style>\n",
       "<table border=\"1\" class=\"dataframe\">\n",
       "  <thead>\n",
       "    <tr style=\"text-align: right;\">\n",
       "      <th></th>\n",
       "      <th>name</th>\n",
       "      <th>random</th>\n",
       "      <th>iteration</th>\n",
       "      <th>sample_index</th>\n",
       "      <th>repetition</th>\n",
       "      <th>update</th>\n",
       "    </tr>\n",
       "  </thead>\n",
       "  <tbody>\n",
       "    <tr>\n",
       "      <th>0</th>\n",
       "      <td>randn</td>\n",
       "      <td>-2.867201</td>\n",
       "      <td>0</td>\n",
       "      <td>536019212</td>\n",
       "      <td>0</td>\n",
       "      <td>0</td>\n",
       "    </tr>\n",
       "    <tr>\n",
       "      <th>1</th>\n",
       "      <td>randn</td>\n",
       "      <td>4.830893</td>\n",
       "      <td>1</td>\n",
       "      <td>536019212</td>\n",
       "      <td>0</td>\n",
       "      <td>0</td>\n",
       "    </tr>\n",
       "    <tr>\n",
       "      <th>2</th>\n",
       "      <td>randn</td>\n",
       "      <td>6.040271</td>\n",
       "      <td>2</td>\n",
       "      <td>536019212</td>\n",
       "      <td>0</td>\n",
       "      <td>0</td>\n",
       "    </tr>\n",
       "    <tr>\n",
       "      <th>3</th>\n",
       "      <td>randn</td>\n",
       "      <td>5.427344</td>\n",
       "      <td>3</td>\n",
       "      <td>536019212</td>\n",
       "      <td>0</td>\n",
       "      <td>0</td>\n",
       "    </tr>\n",
       "    <tr>\n",
       "      <th>4</th>\n",
       "      <td>randn</td>\n",
       "      <td>6.148175</td>\n",
       "      <td>4</td>\n",
       "      <td>536019212</td>\n",
       "      <td>0</td>\n",
       "      <td>0</td>\n",
       "    </tr>\n",
       "  </tbody>\n",
       "</table>\n",
       "</div>"
      ],
      "text/plain": [
       "    name    random  iteration sample_index  repetition  update\n",
       "0  randn -2.867201          0    536019212           0       0\n",
       "1  randn  4.830893          1    536019212           0       0\n",
       "2  randn  6.040271          2    536019212           0       0\n",
       "3  randn  5.427344          3    536019212           0       0\n",
       "4  randn  6.148175          4    536019212           0       0"
      ]
     },
     "execution_count": 5,
     "metadata": {},
     "output_type": "execute_result"
    }
   ],
   "source": [
    "clear_previous_results(res_name)\n",
    "\n",
    "def randn(mean=0, std=1):\n",
    "    return np.random.randn() * std + mean\n",
    "\n",
    "research = Research().add_callable(randn, mean=2, std=5, returns='random', name='randn')\n",
    "\n",
    "research.run(5, name=res_name)\n",
    "\n",
    "research.load_results().df"
   ]
  },
  {
   "cell_type": "markdown",
   "metadata": {},
   "source": [
    "## Named Expressions"
   ]
  },
  {
   "cell_type": "markdown",
   "metadata": {},
   "source": [
    "Obviously, such usage of `args` and `kwargs` is not very usefull because can be realized by `partial` but you also can use named expressions to substitute into functions objects which depends on research objects. For example, you can use ready results of the current research by `RR` named expression which corresponds to `Results(path=res_name)`."
   ]
  },
  {
   "cell_type": "code",
   "execution_count": 6,
   "metadata": {},
   "outputs": [
    {
     "name": "stdout",
     "output_type": "stream",
     "text": [
      "Research max_research is starting...\n"
     ]
    },
    {
     "data": {
      "text/html": [
       "<div>\n",
       "<style scoped>\n",
       "    .dataframe tbody tr th:only-of-type {\n",
       "        vertical-align: middle;\n",
       "    }\n",
       "\n",
       "    .dataframe tbody tr th {\n",
       "        vertical-align: top;\n",
       "    }\n",
       "\n",
       "    .dataframe thead th {\n",
       "        text-align: right;\n",
       "    }\n",
       "</style>\n",
       "<table border=\"1\" class=\"dataframe\">\n",
       "  <thead>\n",
       "    <tr style=\"text-align: right;\">\n",
       "      <th></th>\n",
       "      <th>name</th>\n",
       "      <th>random</th>\n",
       "      <th>min_value</th>\n",
       "      <th>max_value</th>\n",
       "      <th>iteration</th>\n",
       "      <th>sample_index</th>\n",
       "      <th>repetition</th>\n",
       "      <th>update</th>\n",
       "    </tr>\n",
       "  </thead>\n",
       "  <tbody>\n",
       "    <tr>\n",
       "      <th>0</th>\n",
       "      <td>randn</td>\n",
       "      <td>4.961760</td>\n",
       "      <td>NaN</td>\n",
       "      <td>NaN</td>\n",
       "      <td>0</td>\n",
       "      <td>3260983596</td>\n",
       "      <td>0</td>\n",
       "      <td>0</td>\n",
       "    </tr>\n",
       "    <tr>\n",
       "      <th>1</th>\n",
       "      <td>randn</td>\n",
       "      <td>-2.971391</td>\n",
       "      <td>NaN</td>\n",
       "      <td>NaN</td>\n",
       "      <td>1</td>\n",
       "      <td>3260983596</td>\n",
       "      <td>0</td>\n",
       "      <td>0</td>\n",
       "    </tr>\n",
       "    <tr>\n",
       "      <th>2</th>\n",
       "      <td>randn</td>\n",
       "      <td>4.921212</td>\n",
       "      <td>NaN</td>\n",
       "      <td>NaN</td>\n",
       "      <td>2</td>\n",
       "      <td>3260983596</td>\n",
       "      <td>0</td>\n",
       "      <td>0</td>\n",
       "    </tr>\n",
       "    <tr>\n",
       "      <th>3</th>\n",
       "      <td>randn</td>\n",
       "      <td>-1.764236</td>\n",
       "      <td>NaN</td>\n",
       "      <td>NaN</td>\n",
       "      <td>3</td>\n",
       "      <td>3260983596</td>\n",
       "      <td>0</td>\n",
       "      <td>0</td>\n",
       "    </tr>\n",
       "    <tr>\n",
       "      <th>4</th>\n",
       "      <td>randn</td>\n",
       "      <td>-1.331930</td>\n",
       "      <td>NaN</td>\n",
       "      <td>NaN</td>\n",
       "      <td>4</td>\n",
       "      <td>3260983596</td>\n",
       "      <td>0</td>\n",
       "      <td>0</td>\n",
       "    </tr>\n",
       "    <tr>\n",
       "      <th>5</th>\n",
       "      <td>stat</td>\n",
       "      <td>NaN</td>\n",
       "      <td>4.961760</td>\n",
       "      <td>4.96176</td>\n",
       "      <td>0</td>\n",
       "      <td>3260983596</td>\n",
       "      <td>0</td>\n",
       "      <td>0</td>\n",
       "    </tr>\n",
       "    <tr>\n",
       "      <th>6</th>\n",
       "      <td>stat</td>\n",
       "      <td>NaN</td>\n",
       "      <td>-2.971391</td>\n",
       "      <td>4.96176</td>\n",
       "      <td>1</td>\n",
       "      <td>3260983596</td>\n",
       "      <td>0</td>\n",
       "      <td>0</td>\n",
       "    </tr>\n",
       "    <tr>\n",
       "      <th>7</th>\n",
       "      <td>stat</td>\n",
       "      <td>NaN</td>\n",
       "      <td>-2.971391</td>\n",
       "      <td>4.96176</td>\n",
       "      <td>2</td>\n",
       "      <td>3260983596</td>\n",
       "      <td>0</td>\n",
       "      <td>0</td>\n",
       "    </tr>\n",
       "    <tr>\n",
       "      <th>8</th>\n",
       "      <td>stat</td>\n",
       "      <td>NaN</td>\n",
       "      <td>-2.971391</td>\n",
       "      <td>4.96176</td>\n",
       "      <td>3</td>\n",
       "      <td>3260983596</td>\n",
       "      <td>0</td>\n",
       "      <td>0</td>\n",
       "    </tr>\n",
       "    <tr>\n",
       "      <th>9</th>\n",
       "      <td>stat</td>\n",
       "      <td>NaN</td>\n",
       "      <td>-2.971391</td>\n",
       "      <td>4.96176</td>\n",
       "      <td>4</td>\n",
       "      <td>3260983596</td>\n",
       "      <td>0</td>\n",
       "      <td>0</td>\n",
       "    </tr>\n",
       "  </tbody>\n",
       "</table>\n",
       "</div>"
      ],
      "text/plain": [
       "    name    random  min_value  max_value  iteration sample_index  repetition  \\\n",
       "0  randn  4.961760        NaN        NaN          0   3260983596           0   \n",
       "1  randn -2.971391        NaN        NaN          1   3260983596           0   \n",
       "2  randn  4.921212        NaN        NaN          2   3260983596           0   \n",
       "3  randn -1.764236        NaN        NaN          3   3260983596           0   \n",
       "4  randn -1.331930        NaN        NaN          4   3260983596           0   \n",
       "5   stat       NaN   4.961760    4.96176          0   3260983596           0   \n",
       "6   stat       NaN  -2.971391    4.96176          1   3260983596           0   \n",
       "7   stat       NaN  -2.971391    4.96176          2   3260983596           0   \n",
       "8   stat       NaN  -2.971391    4.96176          3   3260983596           0   \n",
       "9   stat       NaN  -2.971391    4.96176          4   3260983596           0   \n",
       "\n",
       "   update  \n",
       "0       0  \n",
       "1       0  \n",
       "2       0  \n",
       "3       0  \n",
       "4       0  \n",
       "5       0  \n",
       "6       0  \n",
       "7       0  \n",
       "8       0  \n",
       "9       0  "
      ]
     },
     "execution_count": 6,
     "metadata": {},
     "output_type": "execute_result"
    }
   ],
   "source": [
    "res_name = 'max_research'\n",
    "\n",
    "clear_previous_results(res_name)\n",
    "\n",
    "def stat(results):\n",
    "    return results.random.min(), results.random.max()\n",
    "\n",
    "research = (Research()\n",
    "    .add_callable(randn, mean=2, std=5, returns='random', name='randn', dump=1)\n",
    "    .add_callable(stat, results=RR().df, returns=['min_value', 'max_value'], name='stat')\n",
    ")\n",
    "\n",
    "research.run(5, name=res_name)\n",
    "\n",
    "research.load_results().df"
   ]
  },
  {
   "cell_type": "markdown",
   "metadata": {},
   "source": [
    "## Save only the best model"
   ]
  },
  {
   "cell_type": "markdown",
   "metadata": {},
   "source": [
    "One can use callables to save only the best (in some sense) model, for example, the model with the highest accuracy on the test."
   ]
  },
  {
   "cell_type": "markdown",
   "metadata": {},
   "source": [
    "Firstly, define pipelines as usual"
   ]
  },
  {
   "cell_type": "code",
   "execution_count": 7,
   "metadata": {},
   "outputs": [],
   "source": [
    "BATCH_SIZE = 64\n",
    "mnist = MNIST()\n",
    "domain = Option('layout', ['cna', 'can']) * Option('bias', [True, False])\n",
    "\n",
    "model_config={\n",
    "    'inputs/images/shape': B('image_shape'),\n",
    "    'inputs/labels/classes': 10,\n",
    "    'inputs/labels/name': 'targets',\n",
    "    'initial_block/inputs': 'images',\n",
    "    'body/block/layout': C('layout'),\n",
    "    'common/conv/use_bias': C('bias'),\n",
    "}"
   ]
  },
  {
   "cell_type": "code",
   "execution_count": 8,
   "metadata": {},
   "outputs": [],
   "source": [
    "train_ppl = (Pipeline()\n",
    "            .init_variable('loss')\n",
    "            .init_model('dynamic', VGG7, 'conv', config=model_config)\n",
    "            .to_array()\n",
    "            .train_model('conv', \n",
    "                         images=B('images'), labels=B('labels'),\n",
    "                         fetches='loss', save_to=V('loss', mode='w'))           \n",
    ")\n",
    "\n",
    "train_root = mnist.train.p.run_later(BATCH_SIZE, shuffle=True, n_epochs=None)"
   ]
  },
  {
   "cell_type": "code",
   "execution_count": 9,
   "metadata": {},
   "outputs": [],
   "source": [
    "test_ppl = (Pipeline()\n",
    "                 .init_variable('predictions')\n",
    "                 .init_variable('metrics')\n",
    "                 .import_model('conv', C('import_from'))\n",
    "                 .to_array()\n",
    "                 .predict_model('conv', \n",
    "                                images=B('images'), labels=B('labels'),\n",
    "                                fetches='predictions', save_to=V('predictions'))\n",
    "                 .gather_metrics('class', targets=B('labels'), predictions=V('predictions'), \n",
    "                                fmt='logits', axis=-1, save_to=V('metrics', mode='a'))\n",
    ")\n",
    "\n",
    "test_root = mnist.test.p.run_later(BATCH_SIZE, shuffle=True, n_epochs=1) #Note  n_epochs=1"
   ]
  },
  {
   "cell_type": "markdown",
   "metadata": {},
   "source": [
    "Now define callable which will get train pipeline with model, results for the current experiment, path to the folder with experiment results and current iteration of the reserach."
   ]
  },
  {
   "cell_type": "code",
   "execution_count": 10,
   "metadata": {},
   "outputs": [],
   "source": [
    "import glob\n",
    "import shutil\n",
    "\n",
    "def save_model(ppl, results, path, iteration):\n",
    "    best_row = results.iloc[results.accuracy.idxmax()]\n",
    "    if best_row.iteration == iteration:\n",
    "        for item in glob.glob(glob.escape(path) + '/model_*'):\n",
    "            shutil.rmtree(item)\n",
    "        model_path = os.path.join(path, 'model_{}'.format(iteration))\n",
    "        ppl.get_model_by_name(\"conv\").save(model_path)\n",
    "    return path"
   ]
  },
  {
   "cell_type": "code",
   "execution_count": 11,
   "metadata": {},
   "outputs": [],
   "source": [
    "res_name = 'save_model_research'\n",
    "\n",
    "clear_previous_results(res_name)"
   ]
  },
  {
   "cell_type": "markdown",
   "metadata": {},
   "source": [
    "To define values of parameters we will use named expressions. `RR` `args` and `kwargs` will be used in `Results` initialization."
   ]
  },
  {
   "cell_type": "code",
   "execution_count": 12,
   "metadata": {},
   "outputs": [
    {
     "name": "stdout",
     "output_type": "stream",
     "text": [
      "Research save_model_research is starting...\n"
     ]
    },
    {
     "name": "stderr",
     "output_type": "stream",
     "text": [
      "Domain updated: 0: 100%|██████████| 300/300.0 [04:34<00:00,  1.09it/s]\n"
     ]
    },
    {
     "data": {
      "text/plain": [
       "<batchflow.research.research.Research at 0x7fda99321080>"
      ]
     },
     "execution_count": 12,
     "metadata": {},
     "output_type": "execute_result"
    }
   ],
   "source": [
    "EXECUTE_EACH = 10\n",
    "\n",
    "research = (Research()\n",
    "    .init_domain(domain)\n",
    "    .add_pipeline(train_root, train_ppl, variables='loss', name='train_ppl')\n",
    "    .add_pipeline(test_root, test_ppl, variables='metrics', run=True, name='test_ppl',\n",
    "                  import_from=RP('train_ppl'),\n",
    "                  execute=[EXECUTE_EACH, 'last'], dump=[EXECUTE_EACH, 'last'])\n",
    "    .get_metrics(pipeline='test_ppl', metrics_var='metrics', metrics_name='accuracy',\n",
    "                 returns='accuracy',\n",
    "                 execute=[EXECUTE_EACH, 'last'], dump=[EXECUTE_EACH, 'last'])\n",
    "    .add_callable(save_model, returns='model_path', execute=[EXECUTE_EACH, 'last'],\n",
    "                  ppl=RP('train_ppl'), \n",
    "                  results=RR(sample_index=RID(), names='test_ppl_metrics').df,\n",
    "                  path=L(os.path.join)(RD(), REP()),\n",
    "                  iteration=RI())\n",
    ")\n",
    "\n",
    "research.run(300, branches=4, name=res_name, bar=True)"
   ]
  },
  {
   "cell_type": "markdown",
   "metadata": {},
   "source": [
    "Let's check that we have only the best models for each config."
   ]
  },
  {
   "cell_type": "code",
   "execution_count": 13,
   "metadata": {},
   "outputs": [],
   "source": [
    "results = research.load_results(concat_config=True).df"
   ]
  },
  {
   "cell_type": "markdown",
   "metadata": {},
   "source": [
    "List of the saved models:"
   ]
  },
  {
   "cell_type": "code",
   "execution_count": 14,
   "metadata": {},
   "outputs": [
    {
     "data": {
      "text/plain": [
       "['save_model_research/results/bias_True-layout_can-repetition_0-update_0/2843298119/model_299',\n",
       " 'save_model_research/results/bias_False-layout_cna-repetition_0-update_0/3036401677/model_299',\n",
       " 'save_model_research/results/bias_False-layout_can-repetition_0-update_0/3895489470/model_299',\n",
       " 'save_model_research/results/bias_True-layout_cna-repetition_0-update_0/2198009815/model_299']"
      ]
     },
     "execution_count": 14,
     "metadata": {},
     "output_type": "execute_result"
    }
   ],
   "source": [
    "glob.glob(os.path.join(res_name, 'results', '*', '*', 'model*'))"
   ]
  },
  {
   "cell_type": "markdown",
   "metadata": {},
   "source": [
    "Iterations for each config with the best test accuracy:"
   ]
  },
  {
   "cell_type": "code",
   "execution_count": 15,
   "metadata": {},
   "outputs": [
    {
     "data": {
      "text/html": [
       "<div>\n",
       "<style scoped>\n",
       "    .dataframe tbody tr th:only-of-type {\n",
       "        vertical-align: middle;\n",
       "    }\n",
       "\n",
       "    .dataframe tbody tr th {\n",
       "        vertical-align: top;\n",
       "    }\n",
       "\n",
       "    .dataframe thead th {\n",
       "        text-align: right;\n",
       "    }\n",
       "</style>\n",
       "<table border=\"1\" class=\"dataframe\">\n",
       "  <thead>\n",
       "    <tr style=\"text-align: right;\">\n",
       "      <th></th>\n",
       "      <th>config</th>\n",
       "      <th>accuracy</th>\n",
       "      <th>iteration</th>\n",
       "    </tr>\n",
       "    <tr>\n",
       "      <th>config</th>\n",
       "      <th></th>\n",
       "      <th></th>\n",
       "      <th></th>\n",
       "    </tr>\n",
       "  </thead>\n",
       "  <tbody>\n",
       "    <tr>\n",
       "      <th>bias_False-layout_can</th>\n",
       "      <td>bias_False-layout_can</td>\n",
       "      <td>0.967957</td>\n",
       "      <td>299</td>\n",
       "    </tr>\n",
       "    <tr>\n",
       "      <th>bias_False-layout_cna</th>\n",
       "      <td>bias_False-layout_cna</td>\n",
       "      <td>0.967821</td>\n",
       "      <td>299</td>\n",
       "    </tr>\n",
       "    <tr>\n",
       "      <th>bias_True-layout_can</th>\n",
       "      <td>bias_True-layout_can</td>\n",
       "      <td>0.968163</td>\n",
       "      <td>299</td>\n",
       "    </tr>\n",
       "    <tr>\n",
       "      <th>bias_True-layout_cna</th>\n",
       "      <td>bias_True-layout_cna</td>\n",
       "      <td>0.969032</td>\n",
       "      <td>299</td>\n",
       "    </tr>\n",
       "  </tbody>\n",
       "</table>\n",
       "</div>"
      ],
      "text/plain": [
       "                                      config  accuracy  iteration\n",
       "config                                                           \n",
       "bias_False-layout_can  bias_False-layout_can  0.967957        299\n",
       "bias_False-layout_cna  bias_False-layout_cna  0.967821        299\n",
       "bias_True-layout_can    bias_True-layout_can  0.968163        299\n",
       "bias_True-layout_cna    bias_True-layout_cna  0.969032        299"
      ]
     },
     "execution_count": 15,
     "metadata": {},
     "output_type": "execute_result"
    }
   ],
   "source": [
    "results.groupby('config').apply(lambda x: x.loc[x.accuracy.idxmax()])[['config', 'accuracy', 'iteration']]"
   ]
  }
 ],
 "metadata": {
  "kernelspec": {
   "display_name": "Python 3",
   "language": "python",
   "name": "python3"
  },
  "language_info": {
   "codemirror_mode": {
    "name": "ipython",
    "version": 3
   },
   "file_extension": ".py",
   "mimetype": "text/x-python",
   "name": "python",
   "nbconvert_exporter": "python",
   "pygments_lexer": "ipython3",
   "version": "3.6.6"
  }
 },
 "nbformat": 4,
 "nbformat_minor": 4
}
